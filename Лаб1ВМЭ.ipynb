{
  "nbformat": 4,
  "nbformat_minor": 0,
  "metadata": {
    "colab": {
      "name": "Лаб1ВМЭ.ipynb",
      "provenance": [],
      "authorship_tag": "ABX9TyPugQY2g2BAZy3H8WK4b6M/"
    },
    "kernelspec": {
      "name": "python3",
      "display_name": "Python 3"
    }
  },
  "cells": [
    {
      "cell_type": "markdown",
      "metadata": {
        "id": "m0Nm94D76yg3"
      },
      "source": [
        "## **Отчёт по первой лабораторной работе ВМЭ**\r\n",
        "Выполнила: Блозерова Юлия, БИ-О-20/1\r\n"
      ]
    },
    {
      "cell_type": "markdown",
      "metadata": {
        "id": "_cRByACm7Wk1"
      },
      "source": [
        "\r\n",
        "\r\n",
        "---\r\n",
        "\r\n"
      ]
    },
    {
      "cell_type": "markdown",
      "metadata": {
        "id": "GdSdE9RH8O4G"
      },
      "source": [
        "# *Задание 1:*\r\n",
        "Подбрасываются 2 кубика. Какова вероятность получить в сумме а) 9 очков? б) 10 очков? Какая из вероятностей больше? Рассчитайте те же вероятности для трёх кубиков."
      ]
    },
    {
      "cell_type": "markdown",
      "metadata": {
        "id": "QfhpswKz_ios"
      },
      "source": [
        "N(2) = 36(кол-во всех исходов, так как кубик подбрасывают 2 раза - 6^2 = 36)\r\n",
        "N(3) = 216 (6^3)\r\n",
        "M(9) = 4 (кол-во благоприятных исходов для суммы очков = 9, 4+5, 5+4, 6+3,3+6)\r\n",
        "\r\n",
        "М(10) = 3 (кол-во благоприятных исходов для суммы очков = 10,5+5, 6+4, 4+6)\r\n",
        "\r\n",
        "При раскладе в 2 кубика вероятность следующая: у 9 = 4/36, у 10 = 3/36, а при подбрасывании 3 кубиков(аналогично): у 9 = 25/216, y 10 = 26/216\r\n",
        "\r\n",
        "Вывод: при подбрасывании 2-х кубиков вероятнось выпадения суммы лчков = 9 больше, а при 3 - меньше\r\n",
        "\r\n",
        "\r\n",
        "Рассмотрим статистический метод:\r\n"
      ]
    },
    {
      "cell_type": "markdown",
      "metadata": {
        "id": "KA8cf2qDJlnA"
      },
      "source": [
        "Решение осуществлено на языке Python, можно воспроизвести и программа выдаст итоговоый результат и для 2, и для 3 кубиков."
      ]
    },
    {
      "cell_type": "code",
      "metadata": {
        "colab": {
          "base_uri": "https://localhost:8080/"
        },
        "id": "kizPfNv2_Ftt",
        "outputId": "4baefd98-7094-410c-bc2a-818bf1be0e7a"
      },
      "source": [
        "import random\r\n",
        "\r\n",
        "chetcik_ver_for_9 = 0\r\n",
        "chetcik_ver_for_10 = 0\r\n",
        "chetcik_ver_for_92 = 0\r\n",
        "chetcik_ver_for_102 = 0\r\n",
        "names_of_grans = [1, 2, 3, 4, 5, 6]\r\n",
        "count_of_kubs = int(input(\"Введите число кубиков \"))\r\n",
        "N = int(input(\"Введите количество испытаний \"))\r\n",
        "\r\n",
        "if count_of_kubs == 3:\r\n",
        "    for i in range(N):\r\n",
        "        count_1 = int(random.choice(names_of_grans))\r\n",
        "        count_2 = int(random.choice(names_of_grans))\r\n",
        "        count_3 = int(random.choice(names_of_grans))\r\n",
        "        if count_1 + count_2 + count_3 == 9:\r\n",
        "            chetcik_ver_for_9 += 1\r\n",
        "        if count_1 + count_2 + count_3 == 10:\r\n",
        "            chetcik_ver_for_10 += 1\r\n",
        "    if chetcik_ver_for_10 / N > chetcik_ver_for_9 / N:\r\n",
        "        print(\"Вероятность с суммой 10 больше\")\r\n",
        "    else:\r\n",
        "        print(\"Вероятность с суммой 9 больше\")\r\n",
        "else:\r\n",
        "    for i in range(N):\r\n",
        "      count_12 = int(random.choice(names_of_grans))\r\n",
        "      count_22 = int(random.choice(names_of_grans))\r\n",
        "      if count_12 + count_22 == 9:\r\n",
        "          chetcik_ver_for_92 += 1\r\n",
        "      if count_12 + count_22 == 10:\r\n",
        "          chetcik_ver_for_102 += 1\r\n",
        "    if chetcik_ver_for_102/N < chetcik_ver_for_92/N:\r\n",
        "        print(\"Вероятность с суммой 9 больше\")\r\n",
        "    else:\r\n",
        "        print(\"Вероятность с суммой 10 больше\")"
      ],
      "execution_count": null,
      "outputs": [
        {
          "output_type": "stream",
          "text": [
            "Введите число кубиков 3\n",
            "Введите количество испытаний 1000\n",
            "Вероятность с суммой 10 больше\n"
          ],
          "name": "stdout"
        }
      ]
    },
    {
      "cell_type": "markdown",
      "metadata": {
        "id": "AYb_QoSY9IHF"
      },
      "source": [
        "Задача написана на языке программирования R, для её исполнения нужно перенести код в RStudio или любую другую среду. Ниже скриншот того, какие знаения принимают переменные: \r\n",
        "\r\n",
        "\r\n",
        "![2021-03-15_21-39-31.png](data:image/png;base64,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)"
      ]
    },
    {
      "cell_type": "code",
      "metadata": {
        "id": "J8KASqvi6w5O"
      },
      "source": [
        "N <- 100 #кол-во испытаний, задаётся вручную\r\n",
        "\r\n",
        "ver10<-0 #число благоприятных исходов при сумме чисел = 10\r\n",
        "ver9<-0 #число благоприятных исходов при сумме чисел = 9\r\n",
        "for (i in 1:N){\r\n",
        "  chislo1 <-sample(1:6, 1) #генерация случ числа от 1 до 6(т.к у кубка значения от 1 до 6) - первый кубик\r\n",
        "  chislo2 <-sample(1:6, 1) # второй кубик\r\n",
        "  if (chislo1+chislo2 == 9){ #проверка условия: сумма случ. чисел = или != 9\r\n",
        "    ver9<- ver9+1 #счетчик благоприятных исходов\r\n",
        "    print(\"9\", ver9/N)\r\n",
        "  }else if (chislo1+chislo2 == 10){#аналогично работе с суммой = 9\r\n",
        "      ver10<-ver10+1\r\n",
        "      print(\"10\", ver10)\r\n",
        "  }\r\n",
        "  else print(\"error\")  #значения, которые нам не подходят\r\n",
        "  \r\n",
        "}"
      ],
      "execution_count": null,
      "outputs": []
    },
    {
      "cell_type": "markdown",
      "metadata": {
        "id": "KKb3UOZX-aGt"
      },
      "source": [
        "Собственно, вычисляем вероятность: \r\n",
        "Р(9) = 12/100 = 0.12;\r\n",
        "Р(10) = 6/100 = 0.06\r\n",
        "Получаем, что вероятность для 9-ти очков больше при подбрасывании двух кубиков.\r\n",
        "\r\n"
      ]
    },
    {
      "cell_type": "markdown",
      "metadata": {
        "id": "Um6CjyBnAYJs"
      },
      "source": [
        "При 1000: \r\n",
        "\r\n",
        "![2021-03-15_21-49-53.png](data:image/png;base64,iVBORw0KGgoAAAANSUhEUgAAASQAAADfCAIAAADQuTnVAAAWu0lEQVR4nO2d2XMcx33H90/IUy5VKsmjX/zkxKocL3kjRJhKXEnKdmyXLZZTOmKVHanKjkTFECBDouxYZTumRJEKCFCkRJGiRIEHDAIgQBCLBQgSIHERIE6CJEhcJABeOjM7V/fMdM+BnZnu6f1+61us5WCOnv71Z7pndvq3ubv3HsAwnIJzwksAw2ViAtv8wtLY1PTw2GUYhpNwziZteu7arfU76/cflJu1s750eWp0fHJiavbGzYXFpWWZfWNhUSuqWdqFReHlwYn7F3h8cvr6/E3DJmxan7ZSlqTZvGkXnkyE0IhihkpbzieuFXVkfMINm3YOwlu8WGs1IDw24Z2t0pbziWsFBmyALZPO3IkDNsCWVWfuxAEbYMuqM3figA2wZdWZO3HABtiy6sydeHTYphs254iq2kO24Jm6Sm31mlahFLVW53KVDRMlwja8a1Mut+nNEc9/R3ZWaOf4wgnOJtuahLW5E9tIyEjJk3PTC7lcxc7hZb86SfbEjeM6xK5/UtRgD71ZwduPz5/oAm8Ets31M8L7n+jWgU8QNv/GJwo2V3Nv2pk8bHrLC9uCEzvxovWrjB/qcRU1Jdgm6ot91ubKStLXtdfk7HX0z1Xtds9mfNClt3tjc+P/ddOcHd7vqCr+vdLqVGuqqh2bmCvo0o/rXL94IOq4QR1s6T2bUfVFVewa0kmjexWqnzHaQRNZsK2JDluYphBQWg7nnjIYha/YVOEpWEXFJvtcqIZFreY433byV+24NOqO01zk7p+sFth2I8FGVaZxXFdR+SX0hsYT0wRhs1Rs6yYbpIlrLdv+oI/cCGP2BwsSCktrTf4O9b/qq+kEEuz1fVZ3WKBqOyfrG3vTiY2zZ3PJAZuxghktd4unoqKvX2xhRkRJ57PN3NxeYeNtTm9tblxZZTBhK66pl1Y/I1IwZzujmqzz6kDt3zWMpKgjlyfG/pkFTgi2IXZR2SVkEmWXNtWezdWaLXL0Rl/EwAWb2bfoqznA0/bD2iGh18LJ6s20nTtvI/Vtyfr2bpMfRtrRsi6HNicENsegzoo0ib2jiYS70wsBm2scxSwDv6kZBbNOgb79M85xn+cQjBbsuAA5rzLO/dudZIknHhm2wBK6YCPXXNGwmU282tnQE4VN79ksi4VtmbpBJ31FeNjMvqWiIsyjBf/SshpB6bDRPQ/jEUgpsNmnn8s5Rwcywebs0ITDRm6iDK7YsFEkuIeREWBzAVzvWF8QbM7ouoeRVEP0RJRqwQGtLVybc45Rh3dte3OEVYawsFGDzOKaO5sY7Yw7jDR25b9/utjxw6YfwuCKOYz0KSHZA1kzjWGkLY063k2RcXNldTgc2PgPSKLARrPtXp/m2fic+AMS6qbOWs2Ex+8BifPeLPxTshBtzvEcnFOG0LA5HpCYS8jenA85wj0g4Q1TA3r16E8j7eF9xSZGUYNKSOFq14A++kgOtjKwBN+Whno0Er7NKenMnThgkw82844l7BfBmWtzcTlzJw7Y5INN9TZXticO2ABbVp25EwdsgC2rztyJAzbAllVn7sQBGxs2GE7UgA2GU3KWYFu9e1d4GcrHqO3YnSXYri0s3Pv4E+HFKBOXWNuje16/9Fqt8LOQylmCbWJ65uNPPxVejDJxKbWtkdb/xLcav/E14WchlbME28WRkU8/+4z5p9W795fX1nlevXtPeOEzZ5/a9rdN2mjrSeFnIZUjwzY79uFgxzbbQ6dfWLgxpC1fuXfvyNyo/7YnCsOvH+1r7hnm+ddHzh7uHORtfrZ/4PPPP/cu7x+dPJnvb+sd5LmlcKF/bEpbc+lu+aZYj2pebfsbpPk4GmyX+9+cGnhrbX19dX3Ndt/xx1duzS/dvfsnR1/dcbnHZ3ONtNoTs1/wVXV05vm3u3ib53t6tXW8y1t6LoxMXfd3W89Fbc2XRtrfnhoQXumZMK+2Gb57e2Vh4OZs22zfkYGnvwvSeA6Gbezc74xO7ELbs2PdLy+trFy7MW94bv76sYkL1YUDz3XueHH41B8d3a75pxebV+/dZ+7qfxv7NJyCYMvzStJV6GGG/6OW/JneIcOHjp1mfm5sK2hr/vdQ6x8f3f7yyGnh9S6/ebXt8u1b04W9WycL2y91vth/4ke9+34K0ngOgG31zup44ed2J7a0smyT1nh54OGWNwzAXH7iXCNzbwnB1jc0/vEnnxnuPjdCf55aW/mviye/0uou55PnGleoR9ut1XYSoTg9UV/pSftHzcHzTVjG2jakZ+oqY0gfGAa2W0tjcxd3dO/59js//lLvB493H3qs58OnY69GZRwKNhsw2++Pn3/o2C+MhvvQsVfpdvzllt+dXbzK3FvKsL3VX/jLE79iXg6+1Pzb80vX7T2kChuZNk5yFoXbNqRTge3e+q2F3ovHnj1e9dXhtm3vV//9G9//85bd/9j70bOxV6My9oNt4kLDxdNV+YOP9J183uXn3vnXb723dc9I95X5a1eujF0q/EK7Z9Ma8d+2vTm6cpN3sIRga2zr1hgzfPh4p/FhX2fXQ42v/tnxX/7w/LFXRjr/80zjS8Mdj5zZqxXyKy1vXFiep/dgwjbdsLm6wch+Z6dFoSahV9a1WzPWbULMaeA5KsNKZV19ceEzL1iz0V2JUhw5GrSOzjo0tR8yk724rd0ZenL4ubJROLP38Vh9seYl2lFre/3enfXbQ7eufbgw2bA0ta/515t3bv2Ljr3fPLDt4d/8258Odr4uvE1Laz/YBtt/fH9t6P7aINNT51+ZuNSh9XI2bBVn9l5Zu+1zMAM2f8fVsz15/ujfNO4Yv71k/LdvuHiC2j3bP3TUTd1edu2BwEYlX7CT7ZF0KWbjLjZoK6+eyVgRDx2q4moWXUE9G3Voe0l7jXFcxrbFa0EHXaR1szAkuYuV5M+vZ2tubfsDS9rnSLW9sji6Ot946+qhxcm9V4deHz39s66D33t321c13lp2PVr/zJdvXh8T3qaltW/PNtAwN/jKyuxbTC/P7u478QMbttV79xfurPsfLE3Ydk6c7eobtpcbsDVeHZ1fX/PugerZ7OwppAVbsBEqNBKMRCzUTZdJkWu18LCZ6VtyJBmmvS3p6EiGFesorpR+ZiqkgGGkwZsPabzaXl1bvjr29s3xupnzrw21PVc4/IP8we91H/z+u8//9S//5Q8HT+8Q3qBldsA9W1/jNxbH/mfx0namJ7ueHOzZbcAW5mA2bN4B5KmxWxuGjTmMdH0+esrvOwlxsGldqDluNHdllYFsq6FlJzhy3e9p/9XWd+cOS/aebXl5diy/XevT+k/8qPvQY10HvlM49Njvd25++yd/tbx8I822mzkHwHZtputS63fnzz3Dc+/hR2ZnhzcAm4u6MLB1956N+jTS1bPxHA42++EhfaPlHUaGh40xWLX3Y29LONSoc3BlFLK4E+dR4oGNV9ua56Z6Ch88UXh/65l3vt2575stbz16fEfF5CD7ETRsO/h7toGWH86d2TrX+R2mJ07+07nWn6UDW//g0GesdxrSgq2yqrrS9ezBPcBz3YPxMslaIpBYo8HN1TVmGci21ibVNVbn6fzmgBpJEmIj/NhQtNo2PNi9r+X/vn5qz9c10pp3fe3U/n8fujQ2enlicnZufnFpZQ1v6jAcDNvCwvi59x6ead7M89n3/m608GqYg/3myNlSYJucmX3wCePV2LaeAY03w9qQkvm5ve9iiTWV0NcD0ppX28urazNXrw2Pjzfv/8nJ3Y9qvLXt+edDB3btffdAwzsHDn90rKOre3j8srbOlXmMKh0O9brW9OiRwc6XuD7z88Wb42EOdrhz8Pm9XRpOzT3D2r/GB8O7jp8zlvi8G6mF+e6Dj0XVVLnB5lPbt9bv3FhamZm70tf8Wm/Ty31nDp4p9J7OFzq7e/oGLl6entE6N7z/7XWW3vpf47wFBqO2M+EswQbDmTZgg+GUTGCDYThRo2eD4ZQM2GA4JQuADTnS4PK0ANiQkQ4uTwuADRnp4PK0ANjC5EgbOjR18ulC81PdtFueLgy/PyW8ymB4YxYAW5gcaV7SDGvLhVcZDG/MAmALkyONSZph4VUGwxuzANh8Msn0TzV91FPzYeFFh/PVR3fXAzY465YLNgZpFm8hYSMTzOyJZNMNVbyMcVbCDz97NqcPEby5bmriadouIUsXHLNDwUbSY+RimGbiAxubNN02bI/XXX2q/tqBHnfSnnVnsh3iBGDLUPPNVmnVdkjYLMbcM/M34tJhM3hzb87IxmEuryLpDJxTpIuwdVi53+xcdO550AGwUQnwjMqhc5MYK0/U1+gVWJwAXlfsGPX65KfBc5awocq6zJllIxcUZ047VkkcnbzHIdPawbE4ImxWghrmaqUmJAwBW9N/mLBpdm3rTL9D2aTFyj93n8odQqWpspN/WLYyI/gOI62EdiRDlrmEJL0z8vnYsNG5DPhp8Ow9FEtoFmOzSaC2k0obXUcSO29Jgnq2kGnt4FgcvWfjXCPXS0tIaNgftqanun9bMxQCthn66m7S4uz3zDOih5H2CiSlh5mYJETPRnK2OlJxkVRZNS48gjJzzdRVm7CRLENW+c29eZPYsUoSOIwMk9YOjsUR79n4pBnecEJCwz6w2YzxYHNfCCh4osBGum4bmA3AZuzZYiwx2FzD5g3BBqfmSD2blcKttEP65EjjPY083F0dDBs9SLvvgY03jCRZsXKbHUySfHUbga3IRk1VtRMPeuAXkAYvBGzeJHaATW5HHEbyHkJEsU+ONOb3bBppvzr6QQjYHqxTme7pnMFV7pRvZFRcTB3n7LStblxDhQtb4OBt3fm4nwFbQBq8MLB5ktgxS8JIpweLcdQHJN4HCZHNy5HG9FP117yYsZ9GwrDcFvCldqSMdO8Wlr288b5ng2GZLQA25EiDy9NIiwDDKRmwwXBKBmwwnJKRNxKGUzJ6NhhOyYANhlMyYIPhlBwjbPRvasbwM7MwrJgT6NnsKVgwDFPmwuZNMcCdnekyYINhlvk9m5sZan4Nmc/PGjEyNswx34Uv2vPj6/YmOcZyGM6wfYaRzulh9NTM6Rlrlk2RCnd3Fx42MtXfsRU7bw8MZ9x+92zF2TQklwazh3ECaTg0bNT+HatN2ClxRNcODMdo3wckdgIZ95xReo7mxmGjMuR5R4zOPCIwnH0HPI00RnTOGy0dA3OYF2PPxjR9LBjOtoMe/ZvPQuhBHQ1PtHs2IxEA+56NeKa1newQ92+wMg78nk1/MOhq7nR2UeMzvYLn0b+dbEPDzOdpZI7kRaQWYRgJq2K8rgXDKRmwwXBKBmwwnJIBGwynZMAGwykZsMFwSgZsMJySkfAHhlMyge0LSCEhoBIKsKkpBFRCpQBbvjaXq81z/3x9/xbfvzt3ZCnUBmUswCahsgRbyB16Vy5DNLkB1asbVywhEg9bUjs0W1VtbdyHz4TYAWVf2GIPEMRWzLDR183clv3Xi8uMWFJ/MQNLLTHXtESPFxnNgNE4qC1c+yrTpsQMKKcqyrOGBChO2HR63G3dBoFCzLmO9nfHgsDYu1dw7NKz//JsSqyAFqumNm9fl+xKKc8aEqAYYfNiZMgVS09o3bBxmOXu0HVcdzHKsymxAmpgZtZF8T+OoUe65StLxQgbL2ZRYdNljTGj0+u+LynPpsSDjdQnuSiVZw0JkIQ9m2uXgTf06NkY4g0jnbAZ9VKeNSRAsd+zBbIRBNv1fD6AFNyzBYsZUPraRVVLedaQACX5NJJ94QyEzbGLEF2ltci1hXM/3J0pKl5ASa2QynA8/MX3b8kJr2upKQRUQgE2NYWASijApqYQUAkF2NQUAiqhAJuaQkAlFGZqw3BKRs+mphBQCQXY1BQCKqHEz2fDTO0kBNgkVJZgC7lD54pl+PZIUX4Bdb6QDKUm8bAluMN83lorOtEZFz+gxhUIr2oLkPoztUnByulqzguo/iLq/lrAJkLqz9T2Waqw2AE1qzoP2IRIwvlsMc/U9imZwmIF1K5owCZGmKmtprwBpaoZsImRhD2ba5clzdQm05HLTJ6Aeiat5Wj2yrOS0pbSM7XLuBX5BhQ9mxipO1PbezEvpwYVFbayrag0hde11BQCKqEAm5pCQCUUYFNTCKiEAmxqCgGVUIBNTSGgEgoztWE4JaNnU1MIqIQCbGoKAZVQ8cNWdlPHpBRgk1CATU2xA+qTWILx2+N4syRmYRippgICSl0Rw/32OP1GN96l3KBifuvfd7Y0lJ6CAuqdDuGLUL6WCilg26AS6Nl8psxAaSkgoIwY+SCk/Yn+C2DboACbmuIF1LoPC5XZxZDWCUboAyG+AJuaCn/PZomDkLZmhD4Q8hNgU1OBAWVNK2T3d4GTd6GQAmxqKkzP5kly5kGI0a1x1oRCCLCpKWZA6UnwjjwSnOQknAwu+P5tg8L3bGoKAZVQgE1NIaASCrCpKQRUQgE2NYWASijApqYQUAmFmdownJLRs6kpBFRCATY1hYBKKMCmphBQCQXY1BQ3oIwZ2fZixlTEqMshH8X8+2yOKYaIgzh5A+ozI5t62dERxKjLIX/FDBsVR8AmUvyAel8jdr7MSv4XdTkUoHhh27JlC3XNQwzEKQJsjN+W1P8bdTkUpHhhq82TWYmATaRKg02PXNTlUJDiho1UPmATKfRsEip+2Czc9gM2gcI9m4RKAjbryRdiIE5RYMPTyJSUDGwYyYsW99E/a0b2F/ieLRXhS201hYBKKMCmphBQCQXY1BQCKqEAm5pCQCUUYFNTCKiEwkxtGE7J6NnUFAIqoQCbmkJAJRRgU1MIqIQSDBtJG493WWMVL6B480OgRMKGV+ySEzOgqHCxig0278uQ9LuS1It51FRu98t56N1iEyugeFtfsGJOi+B4E5n+5SH6iko+umBD8GMTI6CYhyZacQ4j6WhSP8Ts7PNcQxnzI+bkxKxwsKHCU1Ws92zkYkkPIT2/nccYXW7Zn8eFNk6hZ5NQ8T4gsQLoSIkQ6hKK62y8wj2bhIr7aWSxS9vv+iVm+p6NreA1oGjC00gJFfujf3bGXec0YceNGr5mS0L4nk1C4Q0SNYWASijApqYQUAkF2NQUAiqhAJuaQkAlFGBTUwiohMJMbRhOyejZ1BQCKqEAm5pCQCUUYFNTCKiEkhU2zk8/4w2IkGIGlH4l3FF/9B/wLk9ikg42n59+xrt94cWGLe+YbsHACi+pJimxM7Wtnyrl/EyK95eN8NZ6SAUFlDfLAhNvEpTYmdo2Y9ddEwU4v9mH+VhhFRBQHmu4giUpgTO1/bOOhIINDYMn34Ayqs66a8PlK0EJnKkdA2xoGjzxA+pb7bhnS1ICZ2pHhQ33bBHECWjwFQpZzpKTwJnakWHD08jw4j769wdJDxXqNSEJnKnNDr3/Tz/je7aQYgXUPZ5nPStGvSYo6b5ng2IRAiqhAJuaQkAlFGBTUwiohAJsagoBlVCATU0hoBIKM7VhOCWjZ1NTCKiEAmxqCgGVUIBNTSGgEkpS2PBb2yWKHVDejGzM1E5FMsKGVyBLV0BAMVNbhCScqY3f2o5BQQHlvf6PiUsJSsKZ2vit7RgUEFDe/CTMW0pSMs7Uxm9tly5eQHkzsjFTOwXJOVMbv7VdqnDPJqGknakdsDHkr8CA8mof98jJSdqZ2n5bQoEK07MxLmKYqZ2kpJup7VoZpG1MzIDyZmRjpnY6kvF7Nqh0IaASCrCpKQRUQgE2NYWASijApqYQUAkF2NQUAiqhMFMbhlMyejYISkmADYJSEmCDoJQE2CAoJf0/ZGQE8BFc4AEAAAAUdEVYdFNvZnR3YXJlAFlhbmRleC5EaXNrTl/4kQAAAABJRU5ErkJggg==)"
      ]
    },
    {
      "cell_type": "markdown",
      "metadata": {
        "id": "rIH7gYJrApnC"
      },
      "source": [
        "Р(9) = 33/1000; P(10) = 23/1000\r\n",
        "\r\n",
        "И так далее:\r\n",
        "\r\n"
      ]
    },
    {
      "cell_type": "markdown",
      "metadata": {
        "id": "DgWGdsEdBIfn"
      },
      "source": [
        "![2021-03-15_22-04-17.png](data:image/png;base64,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)"
      ]
    },
    {
      "cell_type": "markdown",
      "metadata": {
        "id": "yWuUxndKKQSP"
      },
      "source": [
        "**Файл с данной задачей, решённой в Exсel прикреплён в ЭИОС, для его реализации см. инструкции рядом с кнопкой.**"
      ]
    }
  ]
}